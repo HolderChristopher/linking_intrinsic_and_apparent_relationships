{
 "cells": [
  {
   "cell_type": "code",
   "execution_count": 30,
   "id": "4dd4e7fe",
   "metadata": {},
   "outputs": [
    {
     "name": "stderr",
     "output_type": "stream",
     "text": [
      "C:\\Users\\holde\\AppData\\Local\\Temp/ipykernel_3572/2841735907.py:76: UserWarning: Warning: converting a masked element to nan.\n",
      "  final[index_number+((i-1)*9600),4] = po4[i,j,k]\n",
      "C:\\Users\\holde\\AppData\\Local\\Temp/ipykernel_3572/2841735907.py:77: UserWarning: Warning: converting a masked element to nan.\n",
      "  final[index_number+((i-1)*9600),5] = fed[i,j,k]\n",
      "C:\\Users\\holde\\AppData\\Local\\Temp/ipykernel_3572/2841735907.py:78: UserWarning: Warning: converting a masked element to nan.\n",
      "  final[index_number+((i-1)*9600),6] = irr_mix[i,j,k]\n"
     ]
    }
   ],
   "source": [
    "# Run the data_prep jupyter notebook to get data\n",
    "\n",
    "%run Scenario1_Data_Preparation.ipynb"
   ]
  },
  {
   "cell_type": "code",
   "execution_count": 35,
   "id": "1a9e7c89",
   "metadata": {},
   "outputs": [],
   "source": [
    "from sklearn import metrics\n",
    "from sklearn.model_selection import train_test_split\n",
    "from sklearn.linear_model import LinearRegression\n",
    "from sklearn.ensemble import RandomForestRegressor\n",
    "\n",
    "pred_train, pred_test, resp_train, resp_test = train_test_split(final.values[:,pred],final.values[:,resp],test_size=0.4,random_state=123)\n",
    "\n",
    "scaler = preprocessing.MinMaxScaler(feature_range=(-1,1))\n",
    "pred_train_scaled = scaler.fit_transform(pred_train)\n",
    "pred_test_scaled = scaler.fit_transform(pred_test)\n",
    "resp_train_scaled = scaler.fit_transform(resp_train)\n",
    "resp_test_scaled = scaler.fit_transform(resp_test)"
   ]
  },
  {
   "cell_type": "code",
   "execution_count": 36,
   "id": "cf4713ef",
   "metadata": {},
   "outputs": [
    {
     "name": "stdout",
     "output_type": "stream",
     "text": [
      "Multiple Linear Regression R2 (Training Data): 0.40609348704766235\n",
      "Multiple Linear Regression RMSE (Training Data): 1.0513068807993698e-07\n",
      "Multiple Linear Regression R2 (Testing Data): 0.42066595144688157\n",
      "Multiple Linear Regression RMSE (Testing Data): 1.0404679809512904e-07\n"
     ]
    }
   ],
   "source": [
    "Mdl_mlr = LinearRegression()\n",
    "Mdl_mlr.fit(pred_train_scaled,resp_train_scaled)\n",
    "\n",
    "mlr_train_predictions = Mdl_mlr.predict(pred_train_scaled)\n",
    "mlr_train_inverse = scaler.inverse_transform(mlr_train_predictions)\n",
    "\n",
    "mlr_r2_train = metrics.r2_score(resp_train,mlr_train_inverse)\n",
    "mlr_rmse_train = metrics.mean_squared_error(resp_train,mlr_train_inverse,squared=False)\n",
    "\n",
    "mlr_test_predictions = Mdl_mlr.predict(pred_test_scaled)\n",
    "mlr_test_inverse = scaler.inverse_transform(mlr_test_predictions)\n",
    "\n",
    "mlr_r2_test = metrics.r2_score(resp_test,mlr_test_inverse)\n",
    "mlr_rmse_test = metrics.mean_squared_error(resp_test,mlr_test_inverse,squared=False)\n",
    "\n",
    "print(\"Multiple Linear Regression R2 (Training Data):\",mlr_r2_train)\n",
    "print(\"Multiple Linear Regression RMSE (Training Data):\",mlr_rmse_train)\n",
    "print(\"Multiple Linear Regression R2 (Testing Data):\",mlr_r2_test)\n",
    "print(\"Multiple Linear Regression RMSE (Testing Data):\",mlr_rmse_test)"
   ]
  },
  {
   "cell_type": "code",
   "execution_count": 49,
   "id": "2534b1e3",
   "metadata": {},
   "outputs": [
    {
     "name": "stdout",
     "output_type": "stream",
     "text": [
      "Random Forest R2 (Training Data): 0.9975908429593188\n",
      "Random Forest RMSE (Training Data): 6.695808403824954e-09\n",
      "Random Forest R2 (Testing Data): 0.991432163554295\n",
      "Random Forest RMSE (Testing Data): 1.2653182641639784e-08\n"
     ]
    }
   ],
   "source": [
    "Mdl_rf = RandomForestRegressor(n_estimators=500,random_state=123,min_samples_leaf=5,max_features=1)\n",
    "Mdl_rf.fit(pred_train_scaled,resp_train_scaled.ravel())\n",
    "\n",
    "rf_train_predictions = Mdl_rf.predict(pred_train_scaled)\n",
    "rf_train_inverse = scaler.inverse_transform(rf_train_predictions.reshape(1,-1))\n",
    "\n",
    "rf_r2_train = metrics.r2_score(resp_train,rf_train_inverse.transpose())\n",
    "rf_rmse_train = metrics.mean_squared_error(resp_train,rf_train_inverse.transpose(),squared=False)\n",
    "\n",
    "rf_test_predictions = Mdl_rf.predict(pred_test_scaled)\n",
    "rf_test_inverse = scaler.inverse_transform(rf_test_predictions.reshape(1,-1))\n",
    "\n",
    "rf_r2_test = metrics.r2_score(resp_test,rf_test_inverse.transpose())\n",
    "rf_rmse_test = metrics.mean_squared_error(resp_test,rf_test_inverse.transpose(),squared=False)\n",
    "\n",
    "print(\"Random Forest R2 (Training Data):\",rf_r2_train)\n",
    "print(\"Random Forest RMSE (Training Data):\",rf_rmse_train)\n",
    "print(\"Random Forest R2 (Testing Data):\",rf_r2_test)\n",
    "print(\"Random Forest RMSE (Testing Data):\",rf_rmse_test)"
   ]
  },
  {
   "cell_type": "code",
   "execution_count": null,
   "id": "51dfff38",
   "metadata": {},
   "outputs": [],
   "source": []
  }
 ],
 "metadata": {
  "kernelspec": {
   "display_name": "Python 3 (ipykernel)",
   "language": "python",
   "name": "python3"
  },
  "language_info": {
   "codemirror_mode": {
    "name": "ipython",
    "version": 3
   },
   "file_extension": ".py",
   "mimetype": "text/x-python",
   "name": "python",
   "nbconvert_exporter": "python",
   "pygments_lexer": "ipython3",
   "version": "3.9.7"
  }
 },
 "nbformat": 4,
 "nbformat_minor": 5
}
