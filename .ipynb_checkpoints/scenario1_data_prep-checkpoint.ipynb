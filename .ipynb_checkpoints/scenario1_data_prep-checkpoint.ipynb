{
 "cells": [
  {
   "cell_type": "code",
   "execution_count": 26,
   "id": "d408066d",
   "metadata": {},
   "outputs": [],
   "source": [
    "import os\n",
    "import zipfile\n",
    "import netCDF4 as nc\n",
    "import numpy as np\n",
    "from zenodo_get import zenodo_get\n",
    "from sklearn import preprocessing\n",
    "\n",
    "# Create local directory for the netCDF files, if it doesn't already exist\n",
    "\n",
    "cur_dir = os.getcwd()\n",
    "data_dir = os.path.join(cur_dir,r'20210205_LinkingIntrinsicAndApparentRelationships')\n",
    "if not os.path.exists(data_dir):\n",
    "    os.makedirs(data_dir)\n",
    "    \n",
    "# Name of the Scenario 1 netCDF Source File\n",
    "    \n",
    "s1_source_file = 'Scenario1SourceFile.nc'"
   ]
  },
  {
   "cell_type": "code",
   "execution_count": 13,
   "id": "ae3b22e6",
   "metadata": {},
   "outputs": [
    {
     "name": "stderr",
     "output_type": "stream",
     "text": [
      "Title: Dataset and scripts for manuscript \"Can machine learning extract the mechanisms controlling phytoplankton growth from large-scale observations? – A proof of concept study\"\n",
      "Keywords: \n",
      "Publication date: 2020-07-07\n",
      "DOI: 10.5281/zenodo.4511337\n",
      "Total size: 389.7 MB\n",
      "\n",
      "Link: https://zenodo.org/api/files/5e9b5bba-18ce-448f-9e43-fc62a09f6edb/20210205_LinkingIntrinsicAndApparentRelationships.zip   size: 389.7 MB\n",
      "\n",
      "Checksum is correct. (ca5cd438bb33be822b9b62b0fddf1735)\n",
      "All files have been downloaded.\n"
     ]
    }
   ],
   "source": [
    "# Download the zip file from the Zenodo repository\n",
    "\n",
    "zenodo_get(['-d','10.5281/zenodo.4511337'])"
   ]
  },
  {
   "cell_type": "code",
   "execution_count": 18,
   "id": "df81eaf5",
   "metadata": {},
   "outputs": [],
   "source": [
    "# Extract the contents (netCDF files) of the zip file to the local directory\n",
    "\n",
    "with zipfile.ZipFile(\"20210205_LinkingIntrinsicAndApparentRelationships.zip\",\"r\") as zip_ref:\n",
    "    zip_ref.extractall(\"20210205_LinkingIntrinsicAndApparentRelationships\")"
   ]
  },
  {
   "cell_type": "code",
   "execution_count": 20,
   "id": "c57030ec",
   "metadata": {},
   "outputs": [],
   "source": [
    "# Assign the data to the proper variable and assign names; most of the\n",
    "# variables have latitude, longitude, month, and depth; for Scenario 1\n",
    "# we are just using the surface values where depth=1\n",
    "\n",
    "data = nc.Dataset(os.path.join(data_dir,s1_source_file))\n",
    "lat = data['GEOLAT_T'][:]\n",
    "lon = data['GEOLON_T'][:]\n",
    "time_initial = data['TIME'][:]\n",
    "po4 = data['PO4'][:]\n",
    "po4 = np.squeeze(po4)\n",
    "fed = data['FED'][:]\n",
    "fed = np.squeeze(fed)\n",
    "irr_mix = data['IRR_MIX'][:]\n",
    "irr_mix = np.squeeze(irr_mix)"
   ]
  },
  {
   "cell_type": "code",
   "execution_count": 21,
   "id": "bd365874",
   "metadata": {},
   "outputs": [],
   "source": [
    "# Calculate the limitation terms based on the inputs from phosphate, iron, and light\n",
    "\n",
    "pstar = 1.9e-6\n",
    "\n",
    "phoslim = po4/(1e-7+po4)\n",
    "ironlim = fed/(2e-10+fed)\n",
    "lightlim = irr_mix/(34.3+irr_mix)\n",
    "\n",
    "pl_size = phoslim.shape\n",
    "bio = np.empty((12,80,120))\n",
    "bio[:] = np.nan\n",
    "\n",
    "for i in range(12):\n",
    "    for j in range(80):\n",
    "        for k in range(120):\n",
    "            if phoslim[i,j,k] < ironlim[i,j,k]:\n",
    "                bio[i,j,k] = pstar*phoslim[i,j,k]*lightlim[i,j,k]\n",
    "            elif ironlim[i,j,k] < phoslim[i,j,k]:\n",
    "                bio[i,j,k] = pstar*ironlim[i,j,k]*lightlim[i,j,k]"
   ]
  },
  {
   "cell_type": "code",
   "execution_count": 22,
   "id": "bc371060",
   "metadata": {},
   "outputs": [
    {
     "name": "stderr",
     "output_type": "stream",
     "text": [
      "C:\\Users\\holde\\AppData\\Local\\Temp/ipykernel_16180/391882387.py:19: UserWarning: Warning: converting a masked element to nan.\n",
      "  final[index_number+((i-1)*9600),4] = po4[i,j,k]\n",
      "C:\\Users\\holde\\AppData\\Local\\Temp/ipykernel_16180/391882387.py:20: UserWarning: Warning: converting a masked element to nan.\n",
      "  final[index_number+((i-1)*9600),5] = fed[i,j,k]\n",
      "C:\\Users\\holde\\AppData\\Local\\Temp/ipykernel_16180/391882387.py:21: UserWarning: Warning: converting a masked element to nan.\n",
      "  final[index_number+((i-1)*9600),6] = irr_mix[i,j,k]\n"
     ]
    }
   ],
   "source": [
    "# Move the values from each matrix into a column corresponding to the correct\n",
    "# latitude, longitude, and month; creates matrix where each column corresponds\n",
    "# to a variable and each row corresponds to an observation\n",
    "\n",
    "index_matrix = range(1,9601)\n",
    "index_matrix = np.reshape(index_matrix,(120,80))\n",
    "\n",
    "final = np.empty((120*80*12,8))\n",
    "final[:] = np.nan\n",
    "\n",
    "for i in range(12):\n",
    "    for j in range(80):\n",
    "        for k in range(120):\n",
    "            index_number = index_matrix[k,j]\n",
    "            final[index_number+((i-1)*9600),0] = index_number + ((i-1)*9600)\n",
    "            final[index_number+((i-1)*9600),1] = lat[j,k]\n",
    "            final[index_number+((i-1)*9600),2] = lon[j,k]\n",
    "            final[index_number+((i-1)*9600),3] = time_initial[i]\n",
    "            final[index_number+((i-1)*9600),4] = po4[i,j,k]\n",
    "            final[index_number+((i-1)*9600),5] = fed[i,j,k]\n",
    "            final[index_number+((i-1)*9600),6] = irr_mix[i,j,k]\n",
    "            final[index_number+((i-1)*9600),7] = bio[i,j,k]\n",
    "            \n",
    "final = final[~np.isnan(final).any(axis=1),:]"
   ]
  },
  {
   "cell_type": "code",
   "execution_count": 23,
   "id": "7126f738",
   "metadata": {},
   "outputs": [],
   "source": [
    "# Create lists for variable names and units\n",
    "\n",
    "variables = ['Index','Latitude','Longitude','Month','Macronutrient','Micronutrient','Irradiance','Biomass']\n",
    "units = ['','degrees E','degrees N','','mol/kg','mol/kg','W/m2','mol/kg']"
   ]
  },
  {
   "cell_type": "code",
   "execution_count": 25,
   "id": "4fd6d856",
   "metadata": {},
   "outputs": [],
   "source": [
    "# Specify the response and predictor columns\n",
    "\n",
    "resp = [7]\n",
    "pred = [4,5,6]"
   ]
  },
  {
   "cell_type": "code",
   "execution_count": 27,
   "id": "b68389dc",
   "metadata": {},
   "outputs": [],
   "source": [
    "# Scale each variable to -1 to 1\n",
    "\n",
    "rescale = preprocessing.MinMaxScaler(feature_range=(-1,1))\n",
    "\n",
    "finalRS = rescale.fit_transform(final)"
   ]
  },
  {
   "cell_type": "code",
   "execution_count": 29,
   "id": "8dd65406",
   "metadata": {},
   "outputs": [
    {
     "data": {
      "text/plain": [
       "<matplotlib.colorbar.Colorbar at 0x2085a3be1c0>"
      ]
     },
     "execution_count": 29,
     "metadata": {},
     "output_type": "execute_result"
    },
    {
     "data": {
      "image/png": "[encoded data removed]",
      "text/plain": [
       "<Figure size 432x288 with 2 Axes>"
      ]
     },
     "metadata": {
      "needs_background": "light"
     },
     "output_type": "display_data"
    }
   ],
   "source": [
    "import matplotlib.pyplot as plt\n",
    "\n",
    "# Example contour plot of biomass in July\n",
    "\n",
    "plt.contourf(bio[7,:,:])\n",
    "plt.colorbar()"
   ]
  },
  {
   "cell_type": "code",
   "execution_count": null,
   "id": "dd53e3d0",
   "metadata": {},
   "outputs": [],
   "source": []
  }
 ],
 "metadata": {
  "kernelspec": {
   "display_name": "Python 3 (ipykernel)",
   "language": "python",
   "name": "python3"
  },
  "language_info": {
   "codemirror_mode": {
    "name": "ipython",
    "version": 3
   },
   "file_extension": ".py",
   "mimetype": "text/x-python",
   "name": "python",
   "nbconvert_exporter": "python",
   "pygments_lexer": "ipython3",
   "version": "3.9.7"
  }
 },
 "nbformat": 4,
 "nbformat_minor": 5
}
