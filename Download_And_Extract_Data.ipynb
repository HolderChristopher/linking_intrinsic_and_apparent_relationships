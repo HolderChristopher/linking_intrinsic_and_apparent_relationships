{
 "cells": [
  {
   "cell_type": "code",
   "execution_count": 2,
   "id": "176a3c63",
   "metadata": {},
   "outputs": [
    {
     "name": "stderr",
     "output_type": "stream",
     "text": [
      "Title: Dataset and scripts for manuscript \"Can machine learning extract the mechanisms controlling phytoplankton growth from large-scale observations? – A proof of concept study\"\n",
      "Keywords: \n",
      "Publication date: 2020-07-07\n",
      "DOI: 10.5281/zenodo.4511337\n",
      "Total size: 389.7 MB\n",
      "\n",
      "Link: https://zenodo.org/api/files/5e9b5bba-18ce-448f-9e43-fc62a09f6edb/20210205_LinkingIntrinsicAndApparentRelationships.zip   size: 389.7 MB\n",
      "20210205_LinkingIntrinsicAndApparentRelationships.zip is already downloaded correctly.\n",
      "All files have been downloaded.\n"
     ]
    }
   ],
   "source": [
    "import os\n",
    "import zipfile\n",
    "from zenodo_get import zenodo_get\n",
    "\n",
    "# Create local directory for the netCDF files, if it doesn't already exist\n",
    "\n",
    "cur_dir = os.getcwd()\n",
    "data_dir = os.path.join(cur_dir,r'20210205_LinkingIntrinsicAndApparentRelationships')\n",
    "if not os.path.exists(data_dir):\n",
    "    os.makedirs(data_dir)\n",
    "    \n",
    "# Download the zip file from the Zenodo repository\n",
    "\n",
    "zenodo_get(['-d','10.5281/zenodo.4511337'])\n",
    "\n",
    "# Extract the contents (netCDF files) of the zip file to the local directory\n",
    "\n",
    "with zipfile.ZipFile(\"20210205_LinkingIntrinsicAndApparentRelationships.zip\",\"r\") as zip_ref:\n",
    "    zip_ref.extractall(\"20210205_LinkingIntrinsicAndApparentRelationships\")"
   ]
  },
  {
   "cell_type": "code",
   "execution_count": null,
   "id": "311b4225",
   "metadata": {},
   "outputs": [],
   "source": []
  }
 ],
 "metadata": {
  "kernelspec": {
   "display_name": "Python 3 (ipykernel)",
   "language": "python",
   "name": "python3"
  },
  "language_info": {
   "codemirror_mode": {
    "name": "ipython",
    "version": 3
   },
   "file_extension": ".py",
   "mimetype": "text/x-python",
   "name": "python",
   "nbconvert_exporter": "python",
   "pygments_lexer": "ipython3",
   "version": "3.9.7"
  }
 },
 "nbformat": 4,
 "nbformat_minor": 5
}
